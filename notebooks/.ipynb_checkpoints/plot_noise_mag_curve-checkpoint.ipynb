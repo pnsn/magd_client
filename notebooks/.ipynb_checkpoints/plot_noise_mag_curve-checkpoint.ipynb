{
 "cells": [
  {
   "cell_type": "markdown",
   "metadata": {},
   "source": [
    "### Ran at following tags\n",
    "MagD https://github.com/pnsn/magD/tree/v2.0\n",
    "\n",
    "magd_client https://github.com/pnsn/magd_client/tree/v2.0"
   ]
  },
  {
   "cell_type": "markdown",
   "metadata": {},
   "source": [
    " # Plot noise mag curve\n",
    " For a given noise pdf plot the mode and distance curves"
   ]
  },
  {
   "cell_type": "code",
   "execution_count": 22,
   "metadata": {
    "collapsed": false
   },
   "outputs": [
    {
     "name": "stdout",
     "output_type": "stream",
     "text": [
      "Working in /Users/joncon/Sites/magd_client\n"
     ]
    }
   ],
   "source": [
    "from magD.magD import MagD\n",
    "from magD.pickle import get_pickle\n",
    "import numpy as np\n",
    "import os\n",
    "\n",
    "import matplotlib.pyplot as plt\n",
    "\n",
    "# some constants for all plots\n",
    "\n",
    "# path to local libraries\n",
    "magd_client_path = '/Users/joncon/Sites/magd_client/'\n",
    "pickle_path = magd_client_path + \"/pickle_jar\"\n",
    "os.chdir(magd_client_path)\n",
    "print('Working in ' + os.getcwd())\n",
    "# TUCA,HHZ,UW,--,46.51,-118.15,100\n",
    "\n",
    "resolution = 0.05\n",
    "num_solutions = 1\n",
    "nyquist_correction = 0.4\n",
    "mu = 3e11\n",
    "qconst = 300.0\n",
    "beta = 3.5 \n",
    "\n",
    "data_srcs = {'tuca':\n",
    "             {\n",
    "                 'csv_path': 'csv/2019_eew/tuca.csv',\n",
    "                 'starttime': '2019-01-01',\n",
    "                 'endtime': '2019-03-31',\n",
    "                 'color': 'k',\n",
    "                 'symbol': '',\n",
    "                 'size': 0,\n",
    "                 'label': \"\",\n",
    "                 'unit': 'deg',\n",
    "                 'klass': 'scnl'\n",
    "             },\n",
    "             'lno':\n",
    "             {\n",
    "                 'csv_path': 'csv/2019_eew/lno.csv',\n",
    "                 'starttime': '2019-01-01',\n",
    "                 'endtime': '2019-03-31',\n",
    "                 'color': 'k',\n",
    "                 'symbol': '',\n",
    "                 'size': 0,\n",
    "                 'label': \"\",\n",
    "                 'unit': 'deg',\n",
    "                 'klass': 'scnl'\n",
    "             },\n",
    "             'bow2':\n",
    "             {\n",
    "                 'csv_path': 'csv/2019_eew/bow2.csv',\n",
    "                 'starttime': '2019-01-01',\n",
    "                 'endtime': '2019-03-31',\n",
    "                 'color': 'k',\n",
    "                 'symbol': '',\n",
    "                 'size': 0,\n",
    "                 'label': \"\",\n",
    "                 'unit': 'deg',\n",
    "                 'klass': 'scnl'\n",
    "             },\n",
    "             'core':\n",
    "             {\n",
    "                 'csv_path': 'csv/2019_eew/core.csv',\n",
    "                 'starttime': '2019-01-01',\n",
    "                 'endtime': '2019-03-31',\n",
    "                 'color': 'k',\n",
    "                 'symbol': '',\n",
    "                 'size': 0,\n",
    "                 'label': \"\",\n",
    "                 'unit': 'deg',\n",
    "                 'klass': 'scnl'\n",
    "             }\n",
    "             \n",
    "            }\n",
    "\n",
    "# create all data sources icons can be changed without rebuilding magD object\n",
    "\n",
    "\n",
    "def make_grid(grid_type, src):\n",
    "    grid = MagD(grid_type, name, resolution, lat_min, lat_max, lon_min, lon_max, \n",
    "                num_solutions, pickle_path, nyquist_correction, mu, qconst, beta, True)\n",
    "    grid.build_markers(src)\n",
    "    grid.build_origins()\n",
    "    grid.build_matrix()\n",
    "    grid.save()\n",
    "    return grid\n",
    "\n",
    "def make_mag_curves(grid):\n",
    "    '''return dict structure to plot mag curves\n",
    "    {\n",
    "        'km(float)':\n",
    "            'mag(float)':{\n",
    "                power: float,\n",
    "                freq: float\n",
    "                }\n",
    "    }\n",
    "    so for every reported degree find that origin and then assing it's \n",
    "    mag_curve to this structure\n",
    "\n",
    "    '''\n",
    "    mag_curves = {}\n",
    "    #find all origins in 10km increments\n",
    "    for origin in grid.origins:\n",
    "        for km, v in origin.mag_curve.items():\n",
    "            if km not in mag_curves:\n",
    "                powers = []\n",
    "                periods = []\n",
    "                mags = []\n",
    "                mag_curves[km] = {}\n",
    "                for mag, val in origin.mag_curve[km].items():\n",
    "                    mags.append(mag)\n",
    "                    powers.append(val['pow'])\n",
    "                    periods.append(val['period'])\n",
    "                mag_curves[km]['powers'] = powers\n",
    "                mag_curves[km]['periods'] = periods\n",
    "                mag_curves[km]['mags'] = mags\n",
    "    return mag_curves\n",
    "\n",
    "\n",
    "def make_plot(mag_curves, distances, name):\n",
    "    mags = [0, 1, 2, 3]\n",
    "    colors = ['k', 'r', 'c', 'm', 'b']\n",
    "    legend = True\n",
    "    plt.plot(period, pow, 'k')\n",
    "#     degree_sign= u'\\N{DEGREE SIGN}'\n",
    "    #create the curves\n",
    "    for d in distances:\n",
    "        label = str(d) + \"km\"\n",
    "        plt.plot(mag_curves[d]['periods'], mag_curves[d]['powers'], label=label)\n",
    "    for d in distances:\n",
    "         for m in mags:\n",
    "            try:\n",
    "                i = mag_curves[d]['mags'].index(m)\n",
    "            except ValueError:\n",
    "                next\n",
    "            else:\n",
    "                #ensure all mags have same color\n",
    "                mag_index = mags.index(m)\n",
    "                color = colors[mag_index]\n",
    "                if legend:\n",
    "                    label = \"M\" + str(m)\n",
    "                else:\n",
    "                    label = None\n",
    "                plt.plot(mag_curves[d]['periods'][i], mag_curves[d]['powers'][i],\n",
    "                     '^', color=color, linestyle='None', label=label)\n",
    "         legend = False\n",
    "\n",
    "    plt.xscale('log')\n",
    "    plt.xlabel('Period')\n",
    "    plt.ylabel('Power')\n",
    "    plt.axis([0.02, 250,-185, -70])\n",
    "    plt.title(scnl.sta + \":\" + scnl.chan + \":\" + scnl.net + \":\" + \n",
    "              scnl.loc + \" Mode\\n\" + data_srcs[name]['starttime'] + \n",
    "              \"-\" + data_srcs[name]['endtime'] )\n",
    "    plt.legend(bbox_to_anchor=(1.05, 1), loc='upper left', borderaxespad=0., numpoints=1)\n",
    "\n",
    "    plt.show()\n",
    "    \n",
    "\n",
    "def make_distance_array(mag_curves, des_dists):\n",
    "    '''take desired distances and find the closet real distance'''\n",
    "    keys = []\n",
    "    real_dist = []\n",
    "    for key in mag_curves:\n",
    "        keys.append(key)\n",
    "    for d in des_dists:\n",
    "        real_dist.append(find_nearest(keys, d))\n",
    "    return real_dist\n",
    "    \n",
    "    \n",
    "    \n",
    "def find_nearest(array, value):\n",
    "    '''find the closet value (distance) in array'''\n",
    "    array = np.asarray(array)\n",
    "    idx = (np.abs(array - value)).argmin()\n",
    "    return array[idx]"
   ]
  },
  {
   "cell_type": "code",
   "execution_count": 3,
   "metadata": {
    "collapsed": false
   },
   "outputs": [],
   "source": [
    "# only run once\n",
    "# set book to autoreload\n",
    "%load_ext autoreload\n",
    "%autoreload 2\n",
    "%matplotlib inline"
   ]
  },
  {
   "cell_type": "markdown",
   "metadata": {},
   "source": [
    "Create a sparse grid with the 95th percentile (number of contributions) Station LNO"
   ]
  },
  {
   "cell_type": "code",
   "execution_count": 29,
   "metadata": {
    "collapsed": false
   },
   "outputs": [
    {
     "name": "stdout",
     "output_type": "stream",
     "text": [
      "{'lno': {'csv_path': 'csv/2019_eew/lno.csv', 'klass': 'scnl', 'symbol': '', 'color': 'k', 'starttime': '2019-01-01', 'endtime': '2019-03-31', 'unit': 'deg', 'label': '', 'size': 0}}\n",
      "Profiling by noise...\n",
      "lat: 46.0211, 47.0211, Feel the noise!\n",
      "CPU times: user 909 ms, sys: 5.26 ms, total: 914 ms\n",
      "Wall time: 915 ms\n",
      "/Users/joncon/Sites/magd_client//pickle_jar/lno/detection_grid/40x40-res-0.05.pickle\n"
     ]
    }
   ],
   "source": [
    "#LNO,HHZ,UW,--,45.87,-118.29,100\n",
    "lat_min = 45.8711\n",
    "lat_max = 47.8711\n",
    "lon_min = -118.2911\n",
    "lon_max = -116.2911\n",
    "name = 'lno'\n",
    "grid_type = 'detection'\n",
    "\n",
    "src = {}\n",
    "src[name] = data_srcs[name]\n",
    "print(src)\n",
    "%time grid_lno = make_grid(grid_type, src)\n",
    "print(grid_lno.get_path())"
   ]
  },
  {
   "cell_type": "code",
   "execution_count": 32,
   "metadata": {
    "collapsed": false
   },
   "outputs": [
    {
     "name": "stdout",
     "output_type": "stream",
     "text": [
      "dict_keys([0, 130, 70, 200, 10, 140, 80, 210, 20, 150, 90, 220, 30, 160, 100, 230, 40, 170, 110, 240, 50, 180, 120, 250, 60, 190])\n"
     ]
    },
    {
     "data": {
      "image/png": "[encoded data removed]",
      "text/plain": [
       "<matplotlib.figure.Figure at 0x12b7e5128>"
      ]
     },
     "metadata": {},
     "output_type": "display_data"
    }
   ],
   "source": [
    "mag_curves = make_mag_curves(grid_lno)\n",
    "#desired distances\n",
    "des_dists = [20, 50, 100, 200]\n",
    "real_dists = make_distance_array(mag_curves, des_dists)\n",
    "\n",
    "print(mag_curves.keys())\n",
    "scnl = grid_lno.origins[0].solutions[0].obj\n",
    "freq = scnl.frequencies\n",
    "period = [1/f for f in freq]\n",
    "pow = [p for p in scnl.powers]\n",
    "make_plot(mag_curves, real_dists, name)"
   ]
  },
  {
   "cell_type": "code",
   "execution_count": null,
   "metadata": {
    "collapsed": true
   },
   "outputs": [],
   "source": [
    "Create a sparse grid with a station that only contributed to a few solutins (BOW2)"
   ]
  },
  {
   "cell_type": "code",
   "execution_count": 9,
   "metadata": {
    "collapsed": false
   },
   "outputs": [
    {
     "name": "stdout",
     "output_type": "stream",
     "text": [
      "{'bow2': {'csv_path': 'csv/2019_eew/bow2.csv', 'klass': 'scnl', 'symbol': '', 'color': 'k', 'starttime': '2019-01-01', 'endtime': '2019-03-31', 'unit': 'deg', 'label': '', 'size': 0}}\n",
      "Profiling by noise...\n",
      "lat: 47.031, 48.031, 49.031, 50.031, 51.031, 52.031, Feel the noise!\n",
      "CPU times: user 11.4 s, sys: 55.7 ms, total: 11.5 s\n",
      "Wall time: 11.5 s\n",
      "/Users/joncon/Sites/magd_client//pickle_jar/bow2/detection_grid/128x160-res-0.05.pickle\n"
     ]
    }
   ],
   "source": [
    "#BOW2,ENZ,UW,--,46.48,-123.23,100\n",
    "\n",
    "lat_min = 46.081\n",
    "lat_max = 52.481\n",
    "lon_min = -124.231\n",
    "lon_max = -116.231\n",
    "\n",
    "name = 'bow2'\n",
    "grid_type = 'detection'\n",
    "\n",
    "src = {}\n",
    "src[name] = data_srcs[name]\n",
    "print(src)\n",
    "%time grid_bow2 = make_grid(grid_type, src)\n",
    "print(grid_bow2.get_path())"
   ]
  },
  {
   "cell_type": "code",
   "execution_count": 31,
   "metadata": {
    "collapsed": false
   },
   "outputs": [
    {
     "data": {
      "image/png": "[encoded data removed]",
      "text/plain": [
       "<matplotlib.figure.Figure at 0x12a88a630>"
      ]
     },
     "metadata": {},
     "output_type": "display_data"
    }
   ],
   "source": [
    "mag_curves = make_mag_curves(grid_bow2)\n",
    "#desired distances\n",
    "des_dists = [20, 50, 100, 200]\n",
    "real_dists = make_distance_array(mag_curves, des_dists)\n",
    "\n",
    "scnl = grid_bow2.origins[0].solutions[0].obj\n",
    "freq = scnl.frequencies\n",
    "period = [1/f for f in freq]\n",
    "pow = [p for p in scnl.powers]\n",
    "# print(mag_curves.keys())\n",
    "make_plot(mag_curves, real_dists, name)"
   ]
  },
  {
   "cell_type": "code",
   "execution_count": 25,
   "metadata": {
    "collapsed": false
   },
   "outputs": [
    {
     "name": "stdout",
     "output_type": "stream",
     "text": [
      "{'core': {'csv_path': 'csv/2019_eew/core.csv', 'klass': 'scnl', 'symbol': '', 'color': 'k', 'starttime': '2019-01-01', 'endtime': '2019-03-31', 'unit': 'deg', 'label': '', 'size': 0}}\n",
      "Profiling by noise...\n",
      "lat: 47.0301, 48.0301, Feel the noise!\n",
      "CPU times: user 973 ms, sys: 7.64 ms, total: 981 ms\n",
      "Wall time: 980 ms\n",
      "/Users/joncon/Sites/magd_client//pickle_jar/core/detection_grid/40x40-res-0.05.pickle\n"
     ]
    }
   ],
   "source": [
    "#CORE,HNZ,UW,--,46.93,-123.92,200\n",
    "lat_min = 46.9301\n",
    "lat_max = 48.9301\n",
    "lon_min = -123.9201\n",
    "lon_max = -121.9201\n",
    "\n",
    "name = 'core'\n",
    "grid_type = 'detection'\n",
    "\n",
    "src = {}\n",
    "src[name] = data_srcs[name]\n",
    "print(src)\n",
    "%time grid_core = make_grid(grid_type, src)\n",
    "print(grid_core.get_path())"
   ]
  },
  {
   "cell_type": "code",
   "execution_count": 27,
   "metadata": {
    "collapsed": false
   },
   "outputs": [
    {
     "data": {
      "image/png": "[encoded data removed]",
      "text/plain": [
       "<matplotlib.figure.Figure at 0x12b7dcc18>"
      ]
     },
     "metadata": {},
     "output_type": "display_data"
    }
   ],
   "source": [
    "mag_curves = make_mag_curves(grid_core)\n",
    "#desired distances\n",
    "des_dists = [20, 50, 100, 200]\n",
    "real_dists = make_distance_array(mag_curves, des_dists)\n",
    "\n",
    "scnl = grid_core.origins[0].solutions[0].obj\n",
    "freq = scnl.frequencies\n",
    "period = [1/f for f in freq]\n",
    "pow = [p for p in scnl.powers]\n",
    "# print(mag_curves.keys())\n",
    "make_plot(mag_curves, real_dists, name)"
   ]
  },
  {
   "cell_type": "code",
   "execution_count": null,
   "metadata": {
    "collapsed": true
   },
   "outputs": [],
   "source": []
  }
 ],
 "metadata": {
  "anaconda-cloud": {},
  "kernelspec": {
   "display_name": "Python [Root]",
   "language": "python",
   "name": "Python [Root]"
  },
  "language_info": {
   "codemirror_mode": {
    "name": "ipython",
    "version": 3
   },
   "file_extension": ".py",
   "mimetype": "text/x-python",
   "name": "python",
   "nbconvert_exporter": "python",
   "pygments_lexer": "ipython3",
   "version": "3.5.2"
  }
 },
 "nbformat": 4,
 "nbformat_minor": 2
}
