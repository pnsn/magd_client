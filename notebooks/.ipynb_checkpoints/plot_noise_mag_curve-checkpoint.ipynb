{
 "cells": [
  {
   "cell_type": "markdown",
   "metadata": {},
   "source": [
    " # Plot noise mag curve\n",
    " For a given noise pdf plot the mode and mag curves"
   ]
  },
  {
   "cell_type": "code",
   "execution_count": 11,
   "metadata": {
    "collapsed": false
   },
   "outputs": [
    {
     "name": "stdout",
     "output_type": "stream",
     "text": [
      "Working in /Users/joncon/Sites/magd_client\n"
     ]
    }
   ],
   "source": [
    "from magD.magD import MagD\n",
    "from magD.pickle import get_pickle\n",
    "import numpy as np\n",
    "import os\n",
    "\n",
    "import matplotlib.pyplot as plt\n",
    "\n",
    "# some constants for all plots\n",
    "\n",
    "# path to local libraries\n",
    "magd_client_path = '/Users/joncon/Sites/magd_client/'\n",
    "pickle_path = magd_client_path + \"/pickle_jar\"\n",
    "os.chdir(magd_client_path)\n",
    "print('Working in ' + os.getcwd())\n",
    "# TUCA,HHZ,UW,--,46.51,-118.15,100\n",
    "\n",
    "resolution = 0.05\n",
    "num_solutions = 1\n",
    "nyquist_correction = 0.4\n",
    "mu = 3e11\n",
    "qconst = 300.0\n",
    "beta = 3.5 \n",
    "\n",
    "data_srcs = {'tuca':\n",
    "             {\n",
    "                 'csv_path': 'csv/2019_eew/tuca.csv',\n",
    "                 'starttime': '2019-01-01',\n",
    "                 'endtime': '2019-03-31',\n",
    "                 'color': 'k',\n",
    "                 'symbol': '',\n",
    "                 'size': 0,\n",
    "                 'label': \"\",\n",
    "                 'unit': 'deg',\n",
    "                 'klass': 'scnl'\n",
    "             },\n",
    "             'lno':\n",
    "             {\n",
    "                 'csv_path': 'csv/2019_eew/lno.csv',\n",
    "                 'starttime': '2019-01-01',\n",
    "                 'endtime': '2019-03-31',\n",
    "                 'color': 'k',\n",
    "                 'symbol': '',\n",
    "                 'size': 0,\n",
    "                 'label': \"\",\n",
    "                 'unit': 'deg',\n",
    "                 'klass': 'scnl'\n",
    "             },\n",
    "             'bow2':\n",
    "             {\n",
    "                 'csv_path': 'csv/2019_eew/bow2.csv',\n",
    "                 'starttime': '2019-01-01',\n",
    "                 'endtime': '2019-03-31',\n",
    "                 'color': 'k',\n",
    "                 'symbol': '',\n",
    "                 'size': 0,\n",
    "                 'label': \"\",\n",
    "                 'unit': 'deg',\n",
    "                 'klass': 'scnl'\n",
    "             }\n",
    "             \n",
    "            }\n",
    "\n",
    "# create all data sources icons can be changed without rebuilding magD object\n",
    "\n",
    "\n",
    "def make_grid(grid_type, src):\n",
    "    grid = MagD(grid_type, name, resolution, lat_min, lat_max, lon_min, lon_max, \n",
    "                num_solutions, pickle_path, nyquist_correction, mu, qconst, beta, True)\n",
    "    grid.build_markers(src)\n",
    "    grid.build_origins()\n",
    "    grid.build_matrix()\n",
    "    grid.save()\n",
    "    return grid\n",
    "\n",
    "def make_mag_curves(grid):\n",
    "    '''return dict structure to plot mag curves\n",
    "    {\n",
    "        'km(float)':\n",
    "            'mag(float)':{\n",
    "                power: float,\n",
    "                freq: float\n",
    "                }\n",
    "    }\n",
    "    so for every reported degree find that origin and then assing it's \n",
    "    mag_curve to this structure\n",
    "\n",
    "    '''\n",
    "    mag_curves = {}\n",
    "    #find all origins in 10km increments\n",
    "    for origin in grid.origins:\n",
    "        for km, v in origin.mag_curve.items():\n",
    "            if km not in mag_curves:\n",
    "                powers = []\n",
    "                periods = []\n",
    "                mags = []\n",
    "                mag_curves[km] = {}\n",
    "                for mag, val in origin.mag_curve[km].items():\n",
    "                    mags.append(mag)\n",
    "                    powers.append(val['pow'])\n",
    "                    periods.append(val['period'])\n",
    "                mag_curves[km]['powers'] = powers\n",
    "                mag_curves[km]['periods'] = periods\n",
    "                mag_curves[km]['mags'] = mags\n",
    "    return mag_curves\n",
    "\n",
    "\n",
    "def make_plot(mag_curves, name):\n",
    "    km = [10, 50, 100, 200]\n",
    "    mags = [0, 1, 2, 3]\n",
    "    colors = ['k', 'r', 'c', 'm', 'b']\n",
    "    legend = True\n",
    "    plt.plot(period, pow, 'k')\n",
    "#     degree_sign= u'\\N{DEGREE SIGN}'\n",
    "    #create the curves\n",
    "    for d in km:\n",
    "        label = str(d) + \"km\"\n",
    "        plt.plot(mag_curves[d]['periods'], mag_curves[d]['powers'], label=label)\n",
    "    for d in km:\n",
    "         for m in mags:\n",
    "            try:\n",
    "                i = mag_curves[d]['mags'].index(m)\n",
    "            except ValueError:\n",
    "                next\n",
    "            else:\n",
    "                #ensure all mags have same color\n",
    "                mag_index = mags.index(m)\n",
    "                color = colors[mag_index]\n",
    "                if legend:\n",
    "                    label = \"M\" + str(m)\n",
    "                else:\n",
    "                    label = None\n",
    "                plt.plot(mag_curves[d]['periods'][i], mag_curves[d]['powers'][i],\n",
    "                     '^', color=color, linestyle='None', label=label)\n",
    "         legend = False\n",
    "\n",
    "    plt.xscale('log')\n",
    "    plt.xlabel('Period')\n",
    "    plt.ylabel('Power')\n",
    "    plt.axis([0.02, 250,-185, -70])\n",
    "    plt.title(scnl.sta + \":\" + scnl.chan + \":\" + scnl.net + \":\" + \n",
    "              scnl.loc + \" Mode\\n\" + data_srcs[name]['starttime'] + \n",
    "              \"-\" + data_srcs[name]['endtime']  )\n",
    "    plt.legend(bbox_to_anchor=(1.05, 1), loc='upper left', borderaxespad=0., numpoints=1)\n",
    "\n",
    "    plt.show()\n",
    "\n",
    "\n"
   ]
  },
  {
   "cell_type": "code",
   "execution_count": 6,
   "metadata": {
    "collapsed": false
   },
   "outputs": [
    {
     "name": "stdout",
     "output_type": "stream",
     "text": [
      "The autoreload extension is already loaded. To reload it, use:\n",
      "  %reload_ext autoreload\n"
     ]
    }
   ],
   "source": [
    "# only run once\n",
    "# set book to autoreload\n",
    "%load_ext autoreload\n",
    "%autoreload 2\n",
    "%matplotlib inline"
   ]
  },
  {
   "cell_type": "markdown",
   "metadata": {},
   "source": [
    "Create a sparse grid with the 95th percentile (number of contributions) Station LNO"
   ]
  },
  {
   "cell_type": "code",
   "execution_count": 12,
   "metadata": {
    "collapsed": false
   },
   "outputs": [
    {
     "name": "stdout",
     "output_type": "stream",
     "text": [
      "{'lno': {'size': 0, 'klass': 'scnl', 'unit': 'deg', 'symbol': '', 'endtime': '2019-03-31', 'starttime': '2019-01-01', 'label': '', 'csv_path': 'csv/2019_eew/lno.csv', 'color': 'k'}}\n",
      "Profiling by noise...\n",
      "lat: 46.0211, 47.0211, Feel the noise!\n",
      "CPU times: user 899 ms, sys: 8.78 ms, total: 908 ms\n",
      "Wall time: 907 ms\n",
      "/Users/joncon/Sites/magd_client//pickle_jar/lno/detection_grid/40x40-res-0.05.pickle\n"
     ]
    }
   ],
   "source": [
    "#LNO,HHZ,UW,--,45.87,-118.29,100\n",
    "lat_min = 45.8711\n",
    "lat_max = 47.8711\n",
    "lon_min = -118.2911\n",
    "lon_max = -116.2911\n",
    "name = 'lno'\n",
    "grid_type = 'detection'\n",
    "\n",
    "src = {}\n",
    "src[name] = data_srcs[name]\n",
    "print(src)\n",
    "%time grid_lno = make_grid(grid_type, src)\n",
    "print(grid_lno.get_path())"
   ]
  },
  {
   "cell_type": "code",
   "execution_count": 13,
   "metadata": {
    "collapsed": false
   },
   "outputs": [
    {
     "name": "stdout",
     "output_type": "stream",
     "text": [
      "dict_keys([0, 130, 70, 200, 10, 140, 80, 210, 20, 150, 90, 220, 30, 160, 100, 230, 40, 170, 110, 240, 50, 180, 120, 250, 60, 190])\n"
     ]
    },
    {
     "ename": "KeyError",
     "evalue": "500",
     "output_type": "error",
     "traceback": [
      "\u001b[0;31m---------------------------------------------------------------------------\u001b[0m",
      "\u001b[0;31mKeyError\u001b[0m                                  Traceback (most recent call last)",
      "\u001b[0;32m<ipython-input-13-3ad080f15741>\u001b[0m in \u001b[0;36m<module>\u001b[0;34m()\u001b[0m\n\u001b[1;32m      5\u001b[0m \u001b[0mperiod\u001b[0m \u001b[0;34m=\u001b[0m \u001b[0;34m[\u001b[0m\u001b[0;36m1\u001b[0m\u001b[0;34m/\u001b[0m\u001b[0mf\u001b[0m \u001b[0;32mfor\u001b[0m \u001b[0mf\u001b[0m \u001b[0;32min\u001b[0m \u001b[0mfreq\u001b[0m\u001b[0;34m]\u001b[0m\u001b[0;34m\u001b[0m\u001b[0m\n\u001b[1;32m      6\u001b[0m \u001b[0mpow\u001b[0m \u001b[0;34m=\u001b[0m \u001b[0;34m[\u001b[0m\u001b[0mp\u001b[0m \u001b[0;32mfor\u001b[0m \u001b[0mp\u001b[0m \u001b[0;32min\u001b[0m \u001b[0mscnl\u001b[0m\u001b[0;34m.\u001b[0m\u001b[0mpowers\u001b[0m\u001b[0;34m]\u001b[0m\u001b[0;34m\u001b[0m\u001b[0m\n\u001b[0;32m----> 7\u001b[0;31m \u001b[0mmake_plot\u001b[0m\u001b[0;34m(\u001b[0m\u001b[0mmag_curves\u001b[0m\u001b[0;34m,\u001b[0m \u001b[0mname\u001b[0m\u001b[0;34m)\u001b[0m\u001b[0;34m\u001b[0m\u001b[0m\n\u001b[0m",
      "\u001b[0;32m<ipython-input-11-b5acb36e3358>\u001b[0m in \u001b[0;36mmake_plot\u001b[0;34m(mag_curves, name)\u001b[0m\n\u001b[1;32m    115\u001b[0m     \u001b[0;32mfor\u001b[0m \u001b[0md\u001b[0m \u001b[0;32min\u001b[0m \u001b[0mkm\u001b[0m\u001b[0;34m:\u001b[0m\u001b[0;34m\u001b[0m\u001b[0m\n\u001b[1;32m    116\u001b[0m         \u001b[0mlabel\u001b[0m \u001b[0;34m=\u001b[0m \u001b[0mstr\u001b[0m\u001b[0;34m(\u001b[0m\u001b[0md\u001b[0m\u001b[0;34m)\u001b[0m \u001b[0;34m+\u001b[0m \u001b[0;34m\"km\"\u001b[0m\u001b[0;34m\u001b[0m\u001b[0m\n\u001b[0;32m--> 117\u001b[0;31m         \u001b[0mplt\u001b[0m\u001b[0;34m.\u001b[0m\u001b[0mplot\u001b[0m\u001b[0;34m(\u001b[0m\u001b[0mmag_curves\u001b[0m\u001b[0;34m[\u001b[0m\u001b[0md\u001b[0m\u001b[0;34m]\u001b[0m\u001b[0;34m[\u001b[0m\u001b[0;34m'periods'\u001b[0m\u001b[0;34m]\u001b[0m\u001b[0;34m,\u001b[0m \u001b[0mmag_curves\u001b[0m\u001b[0;34m[\u001b[0m\u001b[0md\u001b[0m\u001b[0;34m]\u001b[0m\u001b[0;34m[\u001b[0m\u001b[0;34m'powers'\u001b[0m\u001b[0;34m]\u001b[0m\u001b[0;34m,\u001b[0m \u001b[0mlabel\u001b[0m\u001b[0;34m=\u001b[0m\u001b[0mlabel\u001b[0m\u001b[0;34m)\u001b[0m\u001b[0;34m\u001b[0m\u001b[0m\n\u001b[0m\u001b[1;32m    118\u001b[0m     \u001b[0;32mfor\u001b[0m \u001b[0md\u001b[0m \u001b[0;32min\u001b[0m \u001b[0mkm\u001b[0m\u001b[0;34m:\u001b[0m\u001b[0;34m\u001b[0m\u001b[0m\n\u001b[1;32m    119\u001b[0m          \u001b[0;32mfor\u001b[0m \u001b[0mm\u001b[0m \u001b[0;32min\u001b[0m \u001b[0mmags\u001b[0m\u001b[0;34m:\u001b[0m\u001b[0;34m\u001b[0m\u001b[0m\n",
      "\u001b[0;31mKeyError\u001b[0m: 500"
     ]
    },
    {
     "data": {
      "image/png": "[encoded data removed]",
      "text/plain": [
       "<matplotlib.figure.Figure at 0x129371358>"
      ]
     },
     "metadata": {},
     "output_type": "display_data"
    }
   ],
   "source": [
    "mag_curves = make_mag_curves(grid_lno)\n",
    "print(mag_curves.keys())\n",
    "scnl = grid_lno.origins[0].solutions[0].obj\n",
    "freq = scnl.frequencies\n",
    "period = [1/f for f in freq]\n",
    "pow = [p for p in scnl.powers]\n",
    "make_plot(mag_curves, name)"
   ]
  },
  {
   "cell_type": "code",
   "execution_count": null,
   "metadata": {
    "collapsed": true
   },
   "outputs": [],
   "source": [
    "Create a sparse grid with a station that only contributed to a few solutins (BOW2)"
   ]
  },
  {
   "cell_type": "code",
   "execution_count": 9,
   "metadata": {
    "collapsed": false
   },
   "outputs": [
    {
     "name": "stdout",
     "output_type": "stream",
     "text": [
      "{'bow2': {'size': 0, 'klass': 'scnl', 'unit': 'deg', 'symbol': '', 'endtime': '2019-03-31', 'starttime': '2019-01-01', 'label': '', 'csv_path': 'csv/2019_eew/bow2.csv', 'color': 'k'}}\n",
      "Profiling by noise...\n",
      "lat: 47.031, 48.031, 49.031, 50.031, 51.031, 52.031, Feel the noise!\n",
      "CPU times: user 11.3 s, sys: 58.5 ms, total: 11.4 s\n",
      "Wall time: 11.4 s\n",
      "/Users/joncon/Sites/magd_client//pickle_jar/bow2/detection_grid/128x160-res-0.05.pickle\n"
     ]
    }
   ],
   "source": [
    "#BOW2,ENZ,UW,--,46.48,-123.23,100\n",
    "\n",
    "lat_min = 46.081\n",
    "lat_max = 52.481\n",
    "lon_min = -124.231\n",
    "lon_max = -116.231\n",
    "\n",
    "name = 'bow2'\n",
    "grid_type = 'detection'\n",
    "\n",
    "src = {}\n",
    "src[name] = data_srcs[name]\n",
    "print(src)\n",
    "%time grid_bow2 = make_grid(grid_type, src)\n",
    "print(grid_bow2.get_path())"
   ]
  },
  {
   "cell_type": "code",
   "execution_count": 10,
   "metadata": {
    "collapsed": false
   },
   "outputs": [
    {
     "name": "stdout",
     "output_type": "stream",
     "text": [
      "dict_keys([0, 640, 130, 260, 790, 390, 520, 10, 140, 770, 270, 400, 530, 20, 750, 150, 280, 410, 540, 730, 30, 160, 290, 420, 710, 550, 40, 170, 300, 690, 430, 560, 50, 180, 670, 310, 440, 570, 60, 650, 190, 320, 800, 450, 580, 70, 200, 780, 330, 460, 590, 80, 760, 210, 340, 470, 600, 740, 90, 220, 350, 480, 720, 610, 100, 230, 360, 700, 490, 620, 110, 240, 680, 370, 500, 830, 630, 120, 660, 250, 380, 510])\n",
      "dict_keys([0, 640, 130, 260, 790, 390, 520, 10, 140, 770, 270, 400, 530, 20, 750, 150, 280, 410, 540, 730, 30, 160, 290, 420, 710, 550, 40, 170, 300, 690, 430, 560, 50, 180, 670, 310, 440, 570, 60, 650, 190, 320, 800, 450, 580, 70, 200, 780, 330, 460, 590, 80, 760, 210, 340, 470, 600, 740, 90, 220, 350, 480, 720, 610, 100, 230, 360, 700, 490, 620, 110, 240, 680, 370, 500, 830, 630, 120, 660, 250, 380, 510])\n"
     ]
    },
    {
     "data": {
      "image/png": "[encoded data removed]",
      "text/plain": [
       "<matplotlib.figure.Figure at 0x1292b9668>"
      ]
     },
     "metadata": {},
     "output_type": "display_data"
    }
   ],
   "source": [
    "\n",
    "mag_curves = make_mag_curves(grid_bow2)\n",
    "print(mag_curves.keys())\n",
    "scnl = grid_bow2.origins[0].solutions[0].obj\n",
    "freq = scnl.frequencies\n",
    "period = [1/f for f in freq]\n",
    "pow = [p for p in scnl.powers]\n",
    "print(mag_curves.keys())\n",
    "make_plot(mag_curves, name)"
   ]
  },
  {
   "cell_type": "code",
   "execution_count": null,
   "metadata": {
    "collapsed": true
   },
   "outputs": [],
   "source": []
  },
  {
   "cell_type": "code",
   "execution_count": null,
   "metadata": {
    "collapsed": true
   },
   "outputs": [],
   "source": []
  }
 ],
 "metadata": {
  "anaconda-cloud": {},
  "kernelspec": {
   "display_name": "Python [Root]",
   "language": "python",
   "name": "Python [Root]"
  },
  "language_info": {
   "codemirror_mode": {
    "name": "ipython",
    "version": 3
   },
   "file_extension": ".py",
   "mimetype": "text/x-python",
   "name": "python",
   "nbconvert_exporter": "python",
   "pygments_lexer": "ipython3",
   "version": "3.5.2"
  }
 },
 "nbformat": 4,
 "nbformat_minor": 2
}
